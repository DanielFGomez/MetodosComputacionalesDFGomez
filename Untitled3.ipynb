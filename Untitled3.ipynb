{
 "metadata": {
  "name": ""
 },
 "nbformat": 3,
 "nbformat_minor": 0,
 "worksheets": [
  {
   "cells": [
    {
     "cell_type": "code",
     "collapsed": false,
     "input": [
      "from scipy import interpolate\n",
      "%pylab inline"
     ],
     "language": "python",
     "metadata": {},
     "outputs": [
      {
       "output_type": "stream",
       "stream": "stdout",
       "text": [
        "Populating the interactive namespace from numpy and matplotlib\n"
       ]
      }
     ],
     "prompt_number": 17
    },
    {
     "cell_type": "code",
     "collapsed": false,
     "input": [
      "def p(x):\n",
      "    return 1.0/(5.0+75.0*x**2)\n",
      "\n",
      "def polyN(x,x_in,y_in):\n",
      "    y=0.0\n",
      "    for i,yy in zip(x_in,y_in):\n",
      "        p=1\n",
      "        for j in x_in:\n",
      "            if j!=i:\n",
      "                p=p*(x-j)/(i-j)\n",
      "        y=y+p*yy\n",
      "    return y\n",
      "\n",
      "def interpolar(i):\n",
      "    xin=linspace(-1,1,i)\n",
      "    yin=p(xin)\n",
      "    x=linspace(-1,1,100)\n",
      "    y=polyN(x,xin,yin)\n",
      "    scatter(xin,yin)\n",
      "    plot(x,y,color='r')"
     ],
     "language": "python",
     "metadata": {},
     "outputs": [],
     "prompt_number": 20
    },
    {
     "cell_type": "code",
     "collapsed": false,
     "input": [
      "x_true=linspace(-1,1,1000)\n",
      "y_true=p(x_true)\n",
      "\n",
      "x=linspace(-1,1,19)\n",
      "y=p(x)\n",
      "\n",
      "tck=interpolate.splrep(x,y)\n",
      "y_spline=interpolate.splev(x_true,tck)\n",
      "scatter(x,y)\n",
      "plot(x_true,y_true)\n",
      "plot(x_true,y_spline)\n"
     ],
     "language": "python",
     "metadata": {},
     "outputs": [
      {
       "metadata": {},
       "output_type": "pyout",
       "prompt_number": 24,
       "text": [
        "[<matplotlib.lines.Line2D at 0x7fa40e90d810>]"
       ]
      },
      {
       "metadata": {},
       "output_type": "display_data",
       "png": "[encoded data removed]",
       "text": [
        "<matplotlib.figure.Figure at 0x7fa40e994050>"
       ]
      }
     ],
     "prompt_number": 24
    },
    {
     "cell_type": "code",
     "collapsed": false,
     "input": [],
     "language": "python",
     "metadata": {},
     "outputs": [],
     "prompt_number": 21
    },
    {
     "cell_type": "code",
     "collapsed": false,
     "input": [],
     "language": "python",
     "metadata": {},
     "outputs": []
    }
   ],
   "metadata": {}
  }
 ]
}