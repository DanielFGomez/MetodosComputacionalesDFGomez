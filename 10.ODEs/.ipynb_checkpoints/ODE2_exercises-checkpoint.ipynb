{
 "cells": [
  {
   "cell_type": "markdown",
   "metadata": {},
   "source": [
    "## Exercise 2\n",
    "\n",
    "Take an idealised pendulum: a weightless string of length $\\ell$, fixed at one end with a mass $m$ at the other. The pendulum:\n",
    "- Is free to swing in a plane subject to gravity.\n",
    "- Has a friction proportional to its velocity $v$.\n",
    "- May be driven by an external periodic force $F_d \\cos {\\omega_d t}$.\n",
    "\n",
    "We want to consider angular displacement, so substitute $\\dot{x} = \\ell \\dot{\\theta}$ and $\\ddot{x} = \\ell \\ddot{\\theta}$, and now apply the driving force \n",
    "\n",
    "$$ m \\ell \\ddot{\\theta} + k \\ell \\dot{\\theta} + mg \\sin{\\theta} = F_d \\cos {\\omega_d t} $$\n",
    "\n",
    "We can re-write this 2nd order ODEs as a set of coupled first-order ODEs:\n",
    "\n",
    "Let $y_0 = \\theta$, $y_1 = \\dot{\\theta}$ and $y_2 = \\ddot{\\theta}$:\n",
    "\n",
    "$$ \n",
    "\\begin{align*}\n",
    "y_0' &= y_1 = \\dot{\\theta} \\\\\n",
    "y_1' &= y_2 = \\ddot{\\theta} = -\\frac{k}{m}\\dot{\\theta} - \\frac{g}{\\ell} \\sin{\\theta} + \\frac{F_d}{m \\ell} cos{\\omega_d t}\n",
    "\\end{align*}\n",
    "$$\n",
    "\n",
    "\n",
    "Using a simple change of variable: $\\alpha = g/\\ell$, $\\beta = k/m$ and $\\gamma = F/m\\ell$\n",
    "\n",
    "$$\n",
    "\\begin{align*}\n",
    "y_0' &= y_1 \\\\\n",
    "y_1' &= -\\alpha \\sin{y_0} -\\beta y_1 + \\gamma \\cos{\\omega t}\n",
    "\\end{align*}\n",
    "$$\n",
    "\n",
    "Using the Runge-Kutta(4) method described in ODE_exercises:\n",
    "\n",
    "1. Solve without friction & external force.\n",
    "2. Solve without external force.\n",
    "3. Solve without friction.\n",
    "4. Solve for all forces!\n",
    "\n"
   ]
  },
  {
   "cell_type": "code",
   "execution_count": 27,
   "metadata": {
    "collapsed": false
   },
   "outputs": [
    {
     "name": "stdout",
     "output_type": "stream",
     "text": [
      "Populating the interactive namespace from numpy and matplotlib\n"
     ]
    }
   ],
   "source": [
    "%pylab inline"
   ]
  },
  {
   "cell_type": "code",
   "execution_count": null,
   "metadata": {
    "collapsed": true
   },
   "outputs": [],
   "source": [
    "def m_rungekutta4(func, y_0, t, args={}):\n",
    "    y = np.zeros([len(t), len(y_0)])\n",
    "    y[0] = y_0\n",
    "    h = t[1]-t[0]\n",
    "    \n",
    "    for i in range(1,len(y)):\n",
    "  \n",
    "        k1 = func(t[i-1],y[i-1],args)\n",
    "    \n",
    "        #paso 1\n",
    "        t1 = t[i-1] + (h/2.0)\n",
    "        y1 = y[i-1] + (h/2.0) * k1\n",
    "        k2 = func(t1, y1,args)\n",
    "    \n",
    "        #paso 2\n",
    "        t2 = t[i-1] + (h/2.0)\n",
    "        y2 = y[i-1] + (h/2.0) * k2\n",
    "        k3 = func(t2, y2,args)\n",
    "        \n",
    "        #paso 3\n",
    "        t3 = t[i-1] + h\n",
    "        y3 = y[i-1] + (h * k3)\n",
    "        k4 = func(t3, y3,args)\n",
    "    \n",
    "        #paso 4\n",
    "        pendiente = (1.0/6.0)*(k1 + 2.0*k2 + 2.0*k3 + k4)\n",
    "    \n",
    "        t[i] = t[i-1] + h\n",
    "        y[i] = y[i-1] + h * pendiente\n",
    "    return(y)"
   ]
  },
  {
   "cell_type": "markdown",
   "metadata": {},
   "source": [
    "Ayuda: Encabezado de la función"
   ]
  },
  {
   "cell_type": "code",
   "execution_count": 1,
   "metadata": {
    "collapsed": true
   },
   "outputs": [],
   "source": [
    "# pendulo amortiguado con fuerza externa y friccion.\n",
    "    # Input:\n",
    "    # t: tiempo\n",
    "    # y: vector del péndulo [ángulo, vel angular] \n",
    "    # args['alpha']: g/l_pendulo\n",
    "    # args['beta']: fr/m_pendulo\n",
    "    # args['gamma']: F_ext/(m_pendulo*l_pendulo)\n",
    "    # args['omega']: freq_ext\n",
    "# Output: dydt, vector"
   ]
  }
 ],
 "metadata": {
  "kernelspec": {
   "display_name": "Python 3",
   "language": "python",
   "name": "python3"
  },
  "language_info": {
   "codemirror_mode": {
    "name": "ipython",
    "version": 3
   },
   "file_extension": ".py",
   "mimetype": "text/x-python",
   "name": "python",
   "nbconvert_exporter": "python",
   "pygments_lexer": "ipython3",
   "version": "3.4.3"
  }
 },
 "nbformat": 4,
 "nbformat_minor": 0
}
