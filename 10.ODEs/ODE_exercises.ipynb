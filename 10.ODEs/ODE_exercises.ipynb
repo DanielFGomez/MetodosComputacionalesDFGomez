{
 "metadata": {
  "kernelspec": {
   "display_name": "Python 3",
   "language": "python",
   "name": "python3"
  },
  "language_info": {
   "codemirror_mode": {
    "name": "ipython",
    "version": 3
   },
   "file_extension": ".py",
   "mimetype": "text/x-python",
   "name": "python",
   "nbconvert_exporter": "python",
   "pygments_lexer": "ipython3",
   "version": "3.4.3"
  },
  "name": ""
 },
 "nbformat": 3,
 "nbformat_minor": 0,
 "worksheets": [
  {
   "cells": [
    {
     "cell_type": "heading",
     "level": 1,
     "metadata": {},
     "source": [
      "Solving/Comparing ODEs"
     ]
    },
    {
     "cell_type": "markdown",
     "metadata": {},
     "source": [
      "#Euler Method\n",
      "\n"
     ]
    },
    {
     "cell_type": "markdown",
     "metadata": {},
     "source": [
      "$$\n",
      "y^{\\prime}(x_0,y_0) \\approx \\frac{y(x)-y_0}{x-x_{0}}\n",
      "$$\n",
      "\n",
      "which leads to: \n",
      "\n",
      "$$\n",
      "y_{n+1} = y_{n} + hf(x_n, y_n)\n",
      "$$\n"
     ]
    },
    {
     "cell_type": "markdown",
     "metadata": {},
     "source": [
      "## Leap-frog Method\n",
      "\n",
      "$$\n",
      "y^{\\prime} (x_{n}, y_{n})\\approx \\frac{y_{n+1} - y_{n-1}}{2 h} \n",
      "$$\n",
      "\n",
      "which leads to:\n",
      "\n",
      "$$\n",
      "y_{n+1} = y_{n-1} + 2hf(x_{n}, y_{n})\n",
      "$$"
     ]
    },
    {
     "cell_type": "markdown",
     "metadata": {},
     "source": [
      "## Runge-Kutta Method (2)\n",
      "\n",
      "Compute the derivative at a point half-way between the $x_0$ and $x$, refining Euler.\n",
      "$$\n",
      "x_{half} = x_{0} + \\frac{h}{2}\n",
      "$$\n",
      "\n",
      "and \n",
      "\n",
      "$$\n",
      "y_{half}  = y_{0} + \\frac{h}{2}y^{\\prime}(x_{0},y_{0})\n",
      "$$\n",
      "\n",
      "with these two expressions we can calculate $y^{\\prime}= f(x_{half}, y_{half})$. With this value of the derivative the value of the function at $x_0 + h$ is computed as\n",
      "\n",
      "$$\n",
      "y_{1} = y_{0} + hy^{\\prime} \n",
      "$$"
     ]
    },
    {
     "cell_type": "markdown",
     "metadata": {},
     "source": [
      "## Runge-Kutta Method (4)\n",
      "\n",
      "This algorithm represents a further improvement. In this case the slope that is used to make the step is a weighted average of different slopes\n",
      "\n",
      "$$\n",
      "{\\mathrm{slope}} = \\frac{1}{6}(k_1 + 2k_2 + 2k_3 + k_4),\n",
      "$$\n",
      "where, \n",
      "\n",
      "* $k_1$ is the slope at the beginning of the inteval\n",
      "* $k_2$ is the slope at the middle of the interval, using $k_1$ to determine the value of $y$.\n",
      "* $k_3$ is the slope at the middle of the interval, but this time using $k_2$ to determine the value of $y$.\n",
      "* $k_4$ is the slope at the end point, with its value determined using $k_3$\n",
      "\n",
      "That is:\n",
      "\n",
      "$$\n",
      "\\begin{align}\n",
      "k_1 &= f(t_n, y_n), \\\\\n",
      "k_2 &= f(t_n + \\tfrac{h}{2}, y_n + \\tfrac{h}{2}k_1), \\\\\n",
      "k_3 &= f(t_n + \\tfrac{h}{2}, y_n + \\tfrac{h}{2}k_2), \\\\\n",
      "k_4 &= f(t_n + h, y_n + h k_3).\n",
      "\\end{align}\n",
      "$$"
     ]
    },
    {
     "cell_type": "heading",
     "level": 2,
     "metadata": {},
     "source": [
      "Exercise 1"
     ]
    },
    {
     "cell_type": "markdown",
     "metadata": {},
     "source": [
      "Solve the differential equation $y^{\\prime} = 1+y^2$ in the interval $0 < x <1$ and the boundary condition $y(0)=0$. For each of the four methods explained above. (Euler, Leap-frog, Runge-Kutta2, Runge-Kutta4):\n",
      "- Define the method\n",
      "- Plot the function\n",
      "- Plot the error to compare the numerical solution against the analytical solution."
     ]
    },
    {
     "cell_type": "code",
     "collapsed": false,
     "input": [
      "%pylab inline"
     ],
     "language": "python",
     "metadata": {},
     "outputs": [
      {
       "output_type": "stream",
       "stream": "stdout",
       "text": [
        "Populating the interactive namespace from numpy and matplotlib\n"
       ]
      }
     ],
     "prompt_number": 60
    },
    {
     "cell_type": "code",
     "collapsed": false,
     "input": [
      "# definir funci\u00f3n a calcular\n",
      "def func_yprima(x,y):\n",
      "    return (1 + y**2)\n",
      "\n",
      "# definir solucion anal\u00edtica\n",
      "def func_an(y):\n",
      "    return tan(y)"
     ],
     "language": "python",
     "metadata": {},
     "outputs": [],
     "prompt_number": 61
    },
    {
     "cell_type": "code",
     "collapsed": false,
     "input": [
      "##-- funci\u00f3n m_euler --##\n",
      "# calcular el m\u00e9todo de euler para resolver ODEs de la forma y'= yprima, y valores de x_min,x_max y y0\n",
      "# -input-:\n",
      "## h: paso de la funci\u00f3n, tipo float.\n",
      "## x_min: cota inferior del dominio, tipo float.\n",
      "## x_max: cota superior del dominio, tipo float.\n",
      "## y0: condicion inicial: y[0]= y0, tipo float.\n",
      "## yprima: ecuaci\u00f3n diferencial y'= yprima, tipo funci\u00f3n.\n",
      "# -output-: \n",
      "## La funci\u00f3n entrega un arreglo num\u00e9rico con el resultado de la ecuaci\u00f3n diferencial para cada punto del dominio.\n",
      "def m_euler(h,x_min,x_max, y0, yprima):\n",
      "    x = arange(x_min,x_max,h)\n",
      "    y = zeros(len(x))\n",
      "    y[0]=y0\n",
      "    h = x[1]-x[0]\n",
      "    for i in range(1,len(y)):\n",
      "        var = yprima(x[i-1],y[i-1])\n",
      "        y[i] = y[i-1] + h*var\n",
      "    return(x,y)"
     ],
     "language": "python",
     "metadata": {},
     "outputs": [],
     "prompt_number": 62
    },
    {
     "cell_type": "code",
     "collapsed": true,
     "input": [
      "##-- funci\u00f3n m_leapfrog --##\n",
      "# calcular el m\u00e9todo de leap-frog para resolver ODEs de la forma y'= yprima, y valores de x_min,x_max y y0\n",
      "# -input-:\n",
      "## h: paso de la funci\u00f3n, tipo float.\n",
      "## x_min: cota inferior del dominio, tipo float.\n",
      "## x_max: cota superior del dominio, tipo float.\n",
      "## y0: condicion inicial: y[0]= y0, tipo float.\n",
      "## yprima: ecuaci\u00f3n diferencial y'= yprima, tipo funci\u00f3n.\n",
      "# -output-: \n",
      "## La funci\u00f3n entrega un arreglo num\u00e9rico con el resultado de la ecuaci\u00f3n diferencial para cada punto del dominio.\n",
      "def m_leapfrog(h,x_min,x_max, y0, yprima):\n",
      "    x = arange(x_min,x_max,h)\n",
      "    y = zeros(len(x))\n",
      "    x[0] = x_min\n",
      "    y[0] = y0\n",
      "    x[1] = x_min + h\n",
      "    y[1] = y[0] + h*func_yprima(x[0],y[0])\n",
      "    \n",
      "    y[0]=y0\n",
      "    h = x[1]-x[0]\n",
      "    for i in range(2,len(y)):\n",
      "        var = yprima(x[i-1],y[i-1])\n",
      "        x[i] = x[i-1] + h\n",
      "        y[i] = y[i-2] + 2*h*var\n",
      "    return(x,y)\n"
     ],
     "language": "python",
     "metadata": {},
     "outputs": [],
     "prompt_number": 63
    },
    {
     "cell_type": "heading",
     "level": 3,
     "metadata": {},
     "source": [
      "Insertar ac\u00e1 su soluci\u00f3n para los m\u00e9todos restantes..."
     ]
    },
    {
     "cell_type": "code",
     "collapsed": false,
     "input": [
      "## Par\u00e1metros y Evaluaciones para los distintos m\u00e9todos\n",
      "h = 0.1\n",
      "x_min = 0\n",
      "x_max = 1\n",
      "y0 = 0\n",
      "\n",
      "x,y = m_euler(h,x_min,x_max,y0,func_yprima)\n",
      "z,w = m_leapfrog(h,x_min,x_max,y0,func_yprima)\n",
      "plot(x,y,'ko', label = \"euler\")\n",
      "plot(z,w,'o', label = \"leapfrog\")\n",
      "plot(x,func_an(x))\n",
      "legend(loc='upper left')\n",
      "\n",
      "show()\n",
      "plot(x,abs(func_an(x)-y), label = \"euler\")\n",
      "plt.xlabel('$x$', size=20)\n",
      "plt.ylabel('$|y_{\\mathrm{true}}-y_{\\mathrm{method}}|$',size=20)\n",
      "plot(x,abs(func_an(x)-w), label = \"leapfrog\")\n",
      "legend(loc='upper left') "
     ],
     "language": "python",
     "metadata": {},
     "outputs": [
      {
       "metadata": {},
       "output_type": "display_data",
       "png": "[encoded data removed]",
       "text": [
        "<matplotlib.figure.Figure at 0x108f19978>"
       ]
      },
      {
       "metadata": {},
       "output_type": "pyout",
       "prompt_number": 64,
       "text": [
        "<matplotlib.legend.Legend at 0x108bf2d30>"
       ]
      },
      {
       "metadata": {},
       "output_type": "display_data",
       "png": "[encoded data removed]",
       "text": [
        "<matplotlib.figure.Figure at 0x1088ed0b8>"
       ]
      }
     ],
     "prompt_number": 64
    },
    {
     "cell_type": "markdown",
     "metadata": {},
     "source": [
      "## Exercise 2\n",
      "\n",
      "Take an idealised pendulum: a weightless string of length $\\ell$, fixed at one end with a mass $m$ at the other. The pendulum:\n",
      "- Is free to swing in a plane subject to gravity.\n",
      "- Has a friction proportional to its velocity $v$.\n",
      "- May be driven by an external periodic force $F_d \\cos {\\omega_d t}$.\n",
      "\n",
      "We want to consider angular displacement, so substitute $\\dot{x} = \\ell \\dot{\\theta}$ and $\\ddot{x} = \\ell \\ddot{\\theta}$, and now apply the driving force \n",
      "\n",
      "$$ m \\ell \\ddot{\\theta} + k \\ell \\dot{\\theta} + mg \\sin{\\theta} = F_d \\cos {\\omega_d t} $$\n",
      "\n",
      "We can re-write this 2nd order ODEs as a set of coupled first-order ODEs:\n",
      "\n",
      "Let $y_0 = \\theta$, $y_1 = \\dot{\\theta}$ and $y_2 = \\ddot{\\theta}$:\n",
      "\n",
      "$$ \n",
      "\\begin{align*}\n",
      "y_0' &= y_1 = \\dot{\\theta} \\\\\n",
      "y_1' &= y_2 = \\ddot{\\theta} = -\\frac{k}{m}\\dot{\\theta} - \\frac{g}{\\ell} \\sin{\\theta} + \\frac{F_d}{m \\ell} cos{\\omega_d t}\n",
      "\\end{align*}\n",
      "$$\n",
      "\n",
      "\n",
      "Using a simple change of variable: $\\alpha = g/\\ell$, $\\beta = k/m$ and $\\gamma = F/m\\ell$\n",
      "\n",
      "$$\n",
      "\\begin{align*}\n",
      "y_0' &= y_1 \\\\\n",
      "y_1' &= -\\alpha \\sin{y_0} -\\beta y_1 + \\gamma \\cos{\\omega t}\n",
      "\\end{align*}\n",
      "$$\n",
      "\n",
      "Using the methods described above:\n",
      "\n",
      "- Solve without friction & external force.\n",
      "- Solve without external force.\n",
      "- Solve without friction.\n",
      "- Solve for all forces!\n",
      "\n"
     ]
    }
   ],
   "metadata": {}
  }
 ]
}