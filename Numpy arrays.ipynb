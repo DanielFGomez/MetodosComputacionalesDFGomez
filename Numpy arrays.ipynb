{
 "metadata": {
  "name": ""
 },
 "nbformat": 3,
 "nbformat_minor": 0,
 "worksheets": [
  {
   "cells": [
    {
     "cell_type": "code",
     "collapsed": false,
     "input": [
      "import numpy as np"
     ],
     "language": "python",
     "metadata": {},
     "outputs": [],
     "prompt_number": 3
    },
    {
     "cell_type": "code",
     "collapsed": false,
     "input": [
      "print arange(19)*2"
     ],
     "language": "python",
     "metadata": {},
     "outputs": [
      {
       "output_type": "stream",
       "stream": "stdout",
       "text": [
        "[ 0  2  4  6  8 10 12 14 16 18 20 22 24 26 28 30 32 34 36]\n"
       ]
      }
     ],
     "prompt_number": 2
    },
    {
     "cell_type": "code",
     "collapsed": false,
     "input": [
      "print arange(4)**2"
     ],
     "language": "python",
     "metadata": {},
     "outputs": [
      {
       "output_type": "stream",
       "stream": "stdout",
       "text": [
        "[0 1 4 9]\n"
       ]
      }
     ],
     "prompt_number": 3
    },
    {
     "cell_type": "code",
     "collapsed": false,
     "input": [
      "print arange(4)+arange(3)"
     ],
     "language": "python",
     "metadata": {},
     "outputs": [
      {
       "ename": "ValueError",
       "evalue": "operands could not be broadcast together with shapes (4,) (3,) ",
       "output_type": "pyerr",
       "traceback": [
        "\u001b[0;31m---------------------------------------------------------------------------\u001b[0m\n\u001b[0;31mValueError\u001b[0m                                Traceback (most recent call last)",
        "\u001b[0;32m<ipython-input-4-eb91f9c61e80>\u001b[0m in \u001b[0;36m<module>\u001b[0;34m()\u001b[0m\n\u001b[0;32m----> 1\u001b[0;31m \u001b[0;32mprint\u001b[0m \u001b[0marange\u001b[0m\u001b[0;34m(\u001b[0m\u001b[0;36m4\u001b[0m\u001b[0;34m)\u001b[0m\u001b[0;34m+\u001b[0m\u001b[0marange\u001b[0m\u001b[0;34m(\u001b[0m\u001b[0;36m3\u001b[0m\u001b[0;34m)\u001b[0m\u001b[0;34m\u001b[0m\u001b[0m\n\u001b[0m",
        "\u001b[0;31mValueError\u001b[0m: operands could not be broadcast together with shapes (4,) (3,) "
       ]
      }
     ],
     "prompt_number": 4
    },
    {
     "cell_type": "code",
     "collapsed": false,
     "input": [
      "#slicing\n",
      "a=arange(10)\n",
      "print a[-1::-1]\n",
      "print a[-1:]\n",
      "print a[:-1]\n"
     ],
     "language": "python",
     "metadata": {},
     "outputs": [
      {
       "output_type": "stream",
       "stream": "stdout",
       "text": [
        "[9 8 7 6 5 4 3 2 1 0]\n",
        "[9]\n",
        "[0 1 2 3 4 5 6 7 8]\n"
       ]
      }
     ],
     "prompt_number": 9
    },
    {
     "cell_type": "code",
     "collapsed": false,
     "input": [
      "b[9]=10\n",
      "print b\n",
      "print a\n",
      "#Se cambia tanto en b como en a pq = no crea una copia sino pointea al mismo objeto\n",
      "#usar b=a.copy() para copias"
     ],
     "language": "python",
     "metadata": {},
     "outputs": [
      {
       "output_type": "stream",
       "stream": "stdout",
       "text": [
        "[ 0  1  2  3  4  5  6  7  8 10]\n",
        "[ 0  1  2  3  4  5  6  7  8 10]\n"
       ]
      }
     ],
     "prompt_number": 12
    },
    {
     "cell_type": "code",
     "collapsed": false,
     "input": [
      "a=np.ones(10)\n",
      "b=np.random.random(10)\n",
      "c=np.random.randint(10)"
     ],
     "language": "python",
     "metadata": {},
     "outputs": [
      {
       "metadata": {},
       "output_type": "pyout",
       "prompt_number": 16,
       "text": [
        "array([ 0.2923519 ,  0.52174856,  0.73379643,  0.37610561,  0.19015567,\n",
        "        0.81273876,  0.73447325,  0.57093517,  0.98666398,  0.25881907])"
       ]
      }
     ],
     "prompt_number": 16
    },
    {
     "cell_type": "code",
     "collapsed": false,
     "input": [
      "#where\n",
      "#No mas for cuando se tiene arrays!\n",
      "b=np.random.random(20)\n",
      "print b\n",
      "#devuelve los indices que cumplen la posicion\n",
      "i=np.where(a<0.3)\n",
      "print i\n",
      "#a[i]"
     ],
     "language": "python",
     "metadata": {},
     "outputs": [
      {
       "output_type": "stream",
       "stream": "stdout",
       "text": [
        "[ 0.75387069  0.92432041  0.95138777  0.55804887  0.33247388  0.64017752\n",
        "  0.56086722  0.73044363  0.11920587  0.12718042  0.31872809  0.5523955\n",
        "  0.24869797  0.37663659  0.5007007   0.18882095  0.92890024  0.81412701\n",
        "  0.94113418  0.63895203]\n",
        "(array([], dtype=int64),)\n"
       ]
      }
     ],
     "prompt_number": 23
    },
    {
     "cell_type": "code",
     "collapsed": false,
     "input": [
      "a.sort()\n",
      "a.min()\n",
      "a.max()\n",
      "a.mean()\n",
      "a.std()"
     ],
     "language": "python",
     "metadata": {},
     "outputs": [
      {
       "output_type": "stream",
       "stream": "stdout",
       "text": [
        "[ 0.75387069  0.92432041  0.95138777  0.55804887  0.33247388  0.64017752\n",
        "  0.56086722  0.73044363  0.11920587  0.12718042  0.31872809  0.5523955\n",
        "  0.24869797  0.37663659  0.5007007   0.18882095  0.92890024  0.81412701\n",
        "  0.94113418  0.63895203]\n",
        "0.560353476226\n"
       ]
      }
     ],
     "prompt_number": 26
    }
   ],
   "metadata": {}
  }
 ]
}